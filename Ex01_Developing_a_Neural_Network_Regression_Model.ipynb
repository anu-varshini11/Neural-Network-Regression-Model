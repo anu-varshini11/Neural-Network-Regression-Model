{
  "nbformat": 4,
  "nbformat_minor": 0,
  "metadata": {
    "colab": {
      "provenance": []
    },
    "kernelspec": {
      "name": "python3",
      "display_name": "Python 3"
    },
    "language_info": {
      "name": "python"
    }
  },
  "cells": [
    {
      "cell_type": "code",
      "execution_count": null,
      "metadata": {
        "id": "iX4d2Z3MFoeF"
      },
      "outputs": [],
      "source": [
        "import torch\n",
        "import torch.nn as nn\n",
        "import torch.optim as optim\n",
        "import pandas as pd\n",
        "from sklearn.model_selection import train_test_split\n",
        "from sklearn.preprocessing import MinMaxScaler"
      ]
    },
    {
      "cell_type": "code",
      "source": [
        "dataset1 = pd.read_csv('/content/data.csv')\n",
        "X = dataset1[['Input']].values\n",
        "y = dataset1[['Output']].values"
      ],
      "metadata": {
        "id": "Knhc8pEfFxeM"
      },
      "execution_count": null,
      "outputs": []
    },
    {
      "cell_type": "code",
      "source": [
        "X_train, X_test, y_train, y_test = train_test_split(X, y, test_size=0.33, random_state=33)"
      ],
      "metadata": {
        "id": "zFWMeHCIF5gz"
      },
      "execution_count": null,
      "outputs": []
    },
    {
      "cell_type": "code",
      "source": [
        "scaler = MinMaxScaler()\n",
        "X_train = scaler.fit_transform(X_train)\n",
        "X_test = scaler.transform(X_test)"
      ],
      "metadata": {
        "id": "lN7JN7heF8KR"
      },
      "execution_count": null,
      "outputs": []
    },
    {
      "cell_type": "code",
      "source": [
        "X_train_tensor = torch.tensor(X_train, dtype=torch.float32)\n",
        "y_train_tensor = torch.tensor(y_train, dtype=torch.float32).view(-1, 1)\n",
        "X_test_tensor = torch.tensor(X_test, dtype=torch.float32)\n",
        "y_test_tensor = torch.tensor(y_test, dtype=torch.float32).view(-1, 1)"
      ],
      "metadata": {
        "id": "Zf29muBNF-_5"
      },
      "execution_count": null,
      "outputs": []
    },
    {
      "cell_type": "code",
      "source": [
        "# Name: Anu Varshini M B\n",
        "# Register Number: 212223240010\n",
        "class NeuralNet(nn.Module):\n",
        "  def __init__(self):\n",
        "        super().__init__()\n",
        "        # Include your code here\n",
        "        self.fc1 = nn.Linear(1,5)\n",
        "        self.fc2 = nn.Linear(5,8)\n",
        "        self.fc3 = nn.Linear(8,5)\n",
        "        self.fc4 = nn.Linear(5,1)\n",
        "        self.relu = nn.ReLU()\n",
        "        self.history = {'loss': []}\n",
        "\n",
        "  def forward(self, x):\n",
        "    x = self.relu(self.fc1(x))\n",
        "    x = self.relu(self.fc2(x))\n",
        "    x = self.relu(self.fc3(x))\n",
        "    x = self.fc4(x)\n",
        "\n",
        "    return x"
      ],
      "metadata": {
        "id": "YrC-M5diGBrP"
      },
      "execution_count": null,
      "outputs": []
    },
    {
      "cell_type": "code",
      "source": [
        "# Initialize the Model, Loss Function, and Optimizer\n",
        "# Write your code here\n",
        "ai_brain = NeuralNet()\n",
        "criterion = nn.MSELoss()\n",
        "optimizer = optim.RMSprop(ai_brain.parameters(),lr=0.001)"
      ],
      "metadata": {
        "id": "uwGNE62YGF5h"
      },
      "execution_count": null,
      "outputs": []
    },
    {
      "cell_type": "code",
      "source": [
        "# Name: Anu Varshini M B\n",
        "# Register Number: 212223240010\n",
        "def train_model(ai_brain, X_train, y_train, criterion, optimizer, epochs=2000):\n",
        "    for epoch in range(epochs):\n",
        "        optimizer.zero_grad()\n",
        "        loss = criterion(ai_brain(X_train), y_train)\n",
        "        loss.backward()\n",
        "        optimizer.step()\n",
        "\n",
        "        # Append loss inside the loop\n",
        "        ai_brain.history['loss'].append(loss.item())\n",
        "\n",
        "        if epoch % 200 == 0:\n",
        "            print(f'Epoch [{epoch}/{epochs}], Loss: {loss.item():.6f}')\n"
      ],
      "metadata": {
        "id": "XIEDatOnGJfy"
      },
      "execution_count": null,
      "outputs": []
    },
    {
      "cell_type": "code",
      "source": [
        "train_model(ai_brain, X_train_tensor, y_train_tensor, criterion, optimizer)"
      ],
      "metadata": {
        "colab": {
          "base_uri": "https://localhost:8080/"
        },
        "id": "hze9dcobGMYr",
        "outputId": "d9bb1d47-2198-4682-cee3-e0170f624b91"
      },
      "execution_count": null,
      "outputs": [
        {
          "output_type": "stream",
          "name": "stdout",
          "text": [
            "Epoch [0/2000], Loss: 712.401245\n",
            "Epoch [200/2000], Loss: 493.652313\n",
            "Epoch [400/2000], Loss: 173.443375\n",
            "Epoch [600/2000], Loss: 91.140289\n",
            "Epoch [800/2000], Loss: 78.158737\n",
            "Epoch [1000/2000], Loss: 54.860783\n",
            "Epoch [1200/2000], Loss: 24.500153\n",
            "Epoch [1400/2000], Loss: 3.206462\n",
            "Epoch [1600/2000], Loss: 0.016718\n",
            "Epoch [1800/2000], Loss: 0.006887\n"
          ]
        }
      ]
    },
    {
      "cell_type": "code",
      "source": [
        "with torch.no_grad():\n",
        "    test_loss = criterion(ai_brain(X_test_tensor), y_test_tensor)\n",
        "    print(f'Test Loss: {test_loss.item():.6f}')"
      ],
      "metadata": {
        "colab": {
          "base_uri": "https://localhost:8080/"
        },
        "id": "uB7ys4F4GQUT",
        "outputId": "997a845c-a1a7-43e1-887b-719c361573e7"
      },
      "execution_count": null,
      "outputs": [
        {
          "output_type": "stream",
          "name": "stdout",
          "text": [
            "Test Loss: 0.024356\n"
          ]
        }
      ]
    },
    {
      "cell_type": "code",
      "source": [
        "loss_df = pd.DataFrame(ai_brain.history)"
      ],
      "metadata": {
        "id": "hwG1eMQBGTqY"
      },
      "execution_count": null,
      "outputs": []
    },
    {
      "cell_type": "code",
      "source": [
        "import matplotlib.pyplot as plt\n",
        "loss_df.plot()\n",
        "plt.xlabel(\"Epochs\")\n",
        "plt.ylabel(\"Loss\")\n",
        "plt.title(\"Loss during Training\")\n",
        "plt.show()"
      ],
      "metadata": {
        "colab": {
          "base_uri": "https://localhost:8080/",
          "height": 472
        },
        "id": "xI5Gaw6PGWhF",
        "outputId": "84a7d650-d732-469b-b7c4-6f3def5e491b"
      },
      "execution_count": null,
      "outputs": [
        {
          "output_type": "display_data",
          "data": {
            "text/plain": [
              "<Figure size 640x480 with 1 Axes>"
            ],
            "image/png": "[encoded data removed]"
          },
          "metadata": {}
        }
      ]
    },
    {
      "cell_type": "code",
      "source": [
        "X_n1_1 = torch.tensor([[10]], dtype=torch.float32)\n",
        "prediction = ai_brain(torch.tensor(scaler.transform(X_n1_1), dtype=torch.float32)).item()\n",
        "print(f'Prediction: {prediction}')"
      ],
      "metadata": {
        "colab": {
          "base_uri": "https://localhost:8080/"
        },
        "id": "ywHBxeGWGZ-L",
        "outputId": "4b45ca42-03c0-4b31-f56f-ed3bf4a81252"
      },
      "execution_count": null,
      "outputs": [
        {
          "output_type": "stream",
          "name": "stdout",
          "text": [
            "Prediction: 25.074050903320312\n"
          ]
        }
      ]
    },
    {
      "cell_type": "code",
      "source": [
        "X_n1_1 = torch.tensor([[6]], dtype=torch.float32)\n",
        "prediction = ai_brain(torch.tensor(scaler.transform(X_n1_1), dtype=torch.float32)).item()\n",
        "print(f'Prediction: {prediction}')"
      ],
      "metadata": {
        "colab": {
          "base_uri": "https://localhost:8080/"
        },
        "id": "k6ibSGKoGf7H",
        "outputId": "5de62bc9-f8f3-4482-a37c-3f3428cf0e48"
      },
      "execution_count": null,
      "outputs": [
        {
          "output_type": "stream",
          "name": "stdout",
          "text": [
            "Prediction: 17.052473068237305\n"
          ]
        }
      ]
    }
  ]
}